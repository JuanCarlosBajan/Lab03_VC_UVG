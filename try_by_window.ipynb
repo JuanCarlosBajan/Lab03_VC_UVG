{
  "cells": [
    {
      "cell_type": "code",
      "execution_count": 6,
      "metadata": {
        "id": "AjgFiHu2tUJN"
      },
      "outputs": [
        {
          "name": "stdout",
          "output_type": "stream",
          "text": [
            "1/1 [==============================] - 0s 133ms/step\n"
          ]
        },
        {
          "data": {
            "image/png": "[encoded data removed]",
            "text/plain": [
              "<Figure size 1000x500 with 2 Axes>"
            ]
          },
          "metadata": {},
          "output_type": "display_data"
        }
      ],
      "source": [
        "from tensorflow.keras.models import load_model\n",
        "import matplotlib.pyplot as plt\n",
        "import cv2\n",
        "import numpy as np\n",
        "\n",
        "# Función para dividir la imagen en ventanas de tamaño especificado\n",
        "def dividir_en_ventanas(imagen, tamano_ventana):\n",
        "    ventanas = []\n",
        "    posiciones = []\n",
        "    alto, ancho = imagen.shape\n",
        "    for y in range(0, alto, tamano_ventana):\n",
        "        for x in range(0, ancho, tamano_ventana):\n",
        "            ventana = imagen[y:y+tamano_ventana, x:x+tamano_ventana]\n",
        "            if ventana.shape[0] == tamano_ventana and ventana.shape[1] == tamano_ventana:\n",
        "                ventanas.append(ventana)\n",
        "                posiciones.append((y, x))\n",
        "    return np.array(ventanas), posiciones\n",
        "\n",
        "# Cargar el modelo entrenado\n",
        "model = load_model('unet_model_2.h5')\n",
        "\n",
        "# Cargar una imagen de test en escala de grises\n",
        "imagen_test_path = './Descargas_BSDS500/imgs/6046.jpg'\n",
        "imagen_test = cv2.imread(imagen_test_path, cv2.IMREAD_GRAYSCALE)\n",
        "\n",
        "# Normalizar la imagen de test\n",
        "imagen_test = imagen_test / 255.0\n",
        "\n",
        "tamano_ventana = 32  # Debe ser el mismo tamaño que el utilizado durante el entrenamiento\n",
        "ventanas, posiciones = dividir_en_ventanas(imagen_test, tamano_ventana)\n",
        "\n",
        "# Seleccionar una ventana (por ejemplo, la primera ventana)\n",
        "ventana = ventanas[0]\n",
        "posicion = posiciones[0]\n",
        "\n",
        "# Expandir dimensiones para que la ventana tenga el formato (1, 32, 32, 1)\n",
        "ventana = np.expand_dims(ventana, axis=(0, -1))\n",
        "\n",
        "# Predecir la ventana utilizando el modelo\n",
        "ventana_predicha = model.predict(ventana, batch_size=1)\n",
        "\n",
        "# Des-normalizar la ventana predicha\n",
        "ventana_predicha = (ventana_predicha.squeeze() * 255.0).astype(np.uint8)\n",
        "\n",
        "# Mostrar la ventana original y la ventana predicha\n",
        "plt.figure(figsize=(10, 5))\n",
        "plt.subplot(1, 2, 1)\n",
        "plt.title('Ventana Original')\n",
        "plt.imshow(ventana.squeeze() * 255.0, cmap='gray')  # Des-normalizar para visualizar\n",
        "plt.axis('off')\n",
        "plt.subplot(1, 2, 2)\n",
        "plt.title('Ventana Predicha')\n",
        "plt.imshow(ventana_predicha, cmap='gray')\n",
        "plt.axis('off')\n",
        "plt.show()\n"
      ]
    }
  ],
  "metadata": {
    "colab": {
      "provenance": []
    },
    "kernelspec": {
      "display_name": "Python 3",
      "language": "python",
      "name": "python3"
    },
    "language_info": {
      "codemirror_mode": {
        "name": "ipython",
        "version": 3
      },
      "file_extension": ".py",
      "mimetype": "text/x-python",
      "name": "python",
      "nbconvert_exporter": "python",
      "pygments_lexer": "ipython3",
      "version": "3.10.11"
    }
  },
  "nbformat": 4,
  "nbformat_minor": 0
}
